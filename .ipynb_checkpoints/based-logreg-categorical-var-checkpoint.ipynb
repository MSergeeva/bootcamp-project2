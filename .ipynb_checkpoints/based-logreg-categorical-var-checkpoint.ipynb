{
 "cells": [
  {
   "cell_type": "code",
   "execution_count": 1,
   "metadata": {
    "collapsed": true
   },
   "outputs": [],
   "source": [
    "\n",
    "import os\n",
    "import json\n",
    "from pprint import pprint\n",
    "\n",
    "import matplotlib.pyplot as plt\n",
    "import seaborn as sns\n",
    "import statsmodels.api as sm\n",
    "import numpy as np\n",
    "import pandas as pd\n",
    "pd.set_option(\"display.max_columns\",None)\n",
    "\n",
    "from sklearn.metrics import accuracy_score\n",
    "from sklearn.linear_model import LogisticRegression\n",
    "from sklearn.linear_model import RandomizedLogisticRegression\n",
    "\n",
    "from sklearn.cross_validation import train_test_split\n",
    "from sklearn import metrics\n",
    "\n",
    "from sklearn.metrics import roc_curve, auc\n",
    "\n",
    "###########################################################\n",
    "\n",
    "data = pd.read_csv(r'C:\\Users\\tqz828\\Documents\\ds_bootcamp_project2\\bank\\bank.csv', sep =';',na_values='unknown')\n"
   ]
  },
  {
   "cell_type": "code",
   "execution_count": 2,
   "metadata": {
    "collapsed": false,
    "scrolled": true
   },
   "outputs": [
    {
     "name": "stdout",
     "output_type": "stream",
     "text": [
      "30291 14920 30291 14920\n",
      "             precision    recall  f1-score   support\n",
      "\n",
      "         no       0.92      0.98      0.95     13244\n",
      "        yes       0.64      0.35      0.45      1676\n",
      "\n",
      "avg / total       0.89      0.90      0.89     14920\n",
      "\n",
      "auc: 0.907079731336\n"
     ]
    }
   ],
   "source": [
    "\n",
    "###### Converting Categorical Variables to numeric\n",
    "\n",
    "#categorical_columns = [\"job\", \"marital\", \"contact\", \"month\", \"poutcome\"]\n",
    "categorical_columns = [\"job\", \"marital\", \"education\", \"default\", \"housing\", \"loan\", \"contact\", \"month\", \"poutcome\"]\n",
    "\n",
    "# function to create the dummy columns\n",
    "def add_dummies(df, column_names):\n",
    "    categorical_data = pd.get_dummies(df[column_names], prefix=column_names)\n",
    "    df = pd.concat([df, categorical_data], axis=1)\n",
    "    df.drop(column_names, axis=1, inplace=True)\n",
    "    return df\n",
    "    \n",
    "df = add_dummies(data, categorical_columns)\n",
    "\n",
    "df.describe()\n",
    "\n",
    "df.to_csv(r\"C:\\Users\\tqz828\\Documents\\ds_bootcamp_project2\\bank\\with_added_dummies.csv\")\n",
    "\n",
    "# list of columns in a dataframe\n",
    "df.columns\n",
    "\n",
    "#################################################\n",
    "### Logistic regression with Categorical Values\n",
    "#################################################\n",
    "\n",
    "Y = data[\"y\"] #Y is predictor\n",
    "Y.head()\n",
    "\n",
    "\n",
    "#creating a new dataframe by dropping the y column\n",
    "X = df.drop(\"y\", axis = 1, inplace = False) #inplace is to create a new dataframe. axis = 1 is column. axis = 0 is row\n",
    "X.head()\n",
    "\n",
    "\n",
    "X_train, X_test, Y_train, Y_test = train_test_split(X, Y, test_size=0.33, random_state=4)  #random state keeps the split values consistent. not explicitly required.\n",
    "\n",
    "print len(X_train), len(X_test), len(Y_train), len(Y_test)\n",
    "\n",
    "logreg_model = LogisticRegression()\n",
    "\n",
    "##### Step 1: Create the model\n",
    "#creating the model on training data\n",
    "logreg_model.fit(X_train, Y_train)\n",
    "\n",
    "\n",
    "\n",
    "### Step 2: Predict using the model\n",
    "# using the model to predict republican or democrat\n",
    "Y_predict = logreg_model.predict(X_test)\n",
    "Y_predict\n",
    "\n",
    "### Step 3: Evaluate the model\n",
    "#checking the actual value in Y_test with the predicted value\n",
    "accuracy_score(Y_test, Y_predict)\n",
    "\n",
    "# precision score, recall, f1-score in one classification report\n",
    "print metrics.classification_report(Y_test, Y_predict)\n",
    "\n",
    "## prediction probability for ROC Curve\n",
    "Y_pred_prob = logreg_model.predict_proba(X_test)\n",
    "\n",
    "Y_pred_prob[:,1]   # only the probablity for predicting \"yes\"\n",
    "\n",
    "## ROC Curve\n",
    "fpr, tpr, thresholds = roc_curve(Y_test, Y_pred_prob[:,1], pos_label=\"yes\")\n",
    "\n",
    "plt.plot(fpr,tpr)\n",
    "plt.show() \n",
    "\n",
    "model_auc = auc(fpr,tpr)\n",
    "print \"auc: {0}\".format(model_auc) "
   ]
  }
 ],
 "metadata": {
  "anaconda-cloud": {},
  "kernelspec": {
   "display_name": "Python [Root]",
   "language": "python",
   "name": "Python [Root]"
  },
  "language_info": {
   "codemirror_mode": {
    "name": "ipython",
    "version": 2
   },
   "file_extension": ".py",
   "mimetype": "text/x-python",
   "name": "python",
   "nbconvert_exporter": "python",
   "pygments_lexer": "ipython2",
   "version": "2.7.12"
  }
 },
 "nbformat": 4,
 "nbformat_minor": 0
}
